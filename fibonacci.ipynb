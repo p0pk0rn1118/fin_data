{
 "cells": [
  {
   "cell_type": "code",
   "execution_count": 12,
   "id": "4dc2c08e-7e8a-4808-bf0a-a21bba67df09",
   "metadata": {},
   "outputs": [
    {
     "name": "stdout",
     "output_type": "stream",
     "text": [
      "Fibonacci 數列到第 5 個數字：\n",
      "1, 1, 2, 3, 5\n",
      "相鄰數字的比值：\n",
      "1.0, 0.5, 0.667, 0.6\n"
     ]
    }
   ],
   "source": [
    "def fibonacci(n):\n",
    "    if n <= 0:\n",
    "        print(\"請輸入正整數。\")\n",
    "        return\n",
    "\n",
    "    fib_seq = [1, 1]\n",
    "\n",
    "    for i in range(2, n):\n",
    "        fib_seq.append(fib_seq[-1] + fib_seq[-2])\n",
    "\n",
    "    print(\"Fibonacci 數列到第\", n, \"個數字：\")\n",
    "    print(\", \".join(map(str, fib_seq[:n])))\n",
    "\n",
    "    if n > 1:\n",
    "        # 計算前一項 ÷ 這一項 的比值\n",
    "        ratios = [round(fib_seq[i - 1] / fib_seq[i], 3) for i in range(1, n)]\n",
    "        print(\"相鄰數字的比值：\")\n",
    "        print(\", \".join(map(str, ratios)))\n",
    "\n",
    "fibonacci(5)"
   ]
  },
  {
   "cell_type": "code",
   "execution_count": null,
   "id": "b4029fac-a644-4b48-847a-e57e519eb43f",
   "metadata": {},
   "outputs": [],
   "source": []
  }
 ],
 "metadata": {
  "kernelspec": {
   "display_name": "Python [conda env:base] *",
   "language": "python",
   "name": "conda-base-py"
  },
  "language_info": {
   "codemirror_mode": {
    "name": "ipython",
    "version": 3
   },
   "file_extension": ".py",
   "mimetype": "text/x-python",
   "name": "python",
   "nbconvert_exporter": "python",
   "pygments_lexer": "ipython3",
   "version": "3.12.7"
  }
 },
 "nbformat": 4,
 "nbformat_minor": 5
}
